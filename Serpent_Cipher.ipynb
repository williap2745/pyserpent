{
  "nbformat": 4,
  "nbformat_minor": 0,
  "metadata": {
    "colab": {
      "provenance": [],
      "authorship_tag": "ABX9TyMQCUD7LlsIW+n7YjhmwV3n",
      "include_colab_link": true
    },
    "kernelspec": {
      "name": "python3",
      "display_name": "Python 3"
    },
    "language_info": {
      "name": "python"
    }
  },
  "cells": [
    {
      "cell_type": "markdown",
      "metadata": {
        "id": "view-in-github",
        "colab_type": "text"
      },
      "source": [
        "<a href=\"https://colab.research.google.com/github/williap2745/pyserpent/blob/Implementation-branch/Serpent_Cipher.ipynb\" target=\"_parent\"><img src=\"https://colab.research.google.com/assets/colab-badge.svg\" alt=\"Open In Colab\"/></a>"
      ]
    },
    {
      "cell_type": "code",
      "execution_count": 1,
      "metadata": {
        "colab": {
          "base_uri": "https://localhost:8080/"
        },
        "id": "dbKcxi3jGfH0",
        "outputId": "a3da29b1-a422-4ce8-dbcf-47e3cc6d6492"
      },
      "outputs": [
        {
          "output_type": "stream",
          "name": "stdout",
          "text": [
            "Cloning into 'pyserpent'...\n",
            "remote: Enumerating objects: 31, done.\u001b[K\n",
            "remote: Counting objects: 100% (22/22), done.\u001b[K\n",
            "remote: Compressing objects: 100% (22/22), done.\u001b[K\n",
            "remote: Total 31 (delta 6), reused 0 (delta 0), pack-reused 9 (from 1)\u001b[K\n",
            "Receiving objects: 100% (31/31), 22.57 KiB | 608.00 KiB/s, done.\n",
            "Resolving deltas: 100% (7/7), done.\n"
          ]
        }
      ],
      "source": [
        "!git clone https://github.com/williap2745/pyserpent\n"
      ]
    },
    {
      "cell_type": "code",
      "source": [
        "%cd pyserpent\n"
      ],
      "metadata": {
        "colab": {
          "base_uri": "https://localhost:8080/"
        },
        "id": "BHC5HV_kGyaV",
        "outputId": "1f0ece55-3325-4435-96a4-c10f4cd39a44"
      },
      "execution_count": 2,
      "outputs": [
        {
          "output_type": "stream",
          "name": "stdout",
          "text": [
            "/content/pyserpent\n"
          ]
        }
      ]
    },
    {
      "cell_type": "code",
      "source": [
        "!ls"
      ],
      "metadata": {
        "colab": {
          "base_uri": "https://localhost:8080/"
        },
        "id": "eizilDZoyIFx",
        "outputId": "2d515ff3-1759-4fc5-c916-6877776745cc"
      },
      "execution_count": 3,
      "outputs": [
        {
          "output_type": "stream",
          "name": "stdout",
          "text": [
            "README\tserpent.py\n"
          ]
        }
      ]
    },
    {
      "cell_type": "code",
      "source": [
        "import lib2to3.refactor\n",
        "from pathlib import Path\n",
        "\n",
        "# Path to the serpent.py file\n",
        "serpent_file = Path('/content/pyserpent/serpent.py')\n",
        "\n",
        "# Load the code\n",
        "code = serpent_file.read_text()\n",
        "\n",
        "# Use 2to3 refactoring tool\n",
        "tool = lib2to3.refactor.RefactoringTool(lib2to3.refactor.get_fixers_from_package('lib2to3.fixes'))\n",
        "fixed_tree = tool.refactor_string(code, str(serpent_file))\n",
        "serpent_file.write_text(str(fixed_tree))"
      ],
      "metadata": {
        "colab": {
          "base_uri": "https://localhost:8080/"
        },
        "collapsed": true,
        "id": "KGMBzFsiv7WZ",
        "outputId": "2ae9878c-0c52-41da-840d-aac8c074ca15"
      },
      "execution_count": 4,
      "outputs": [
        {
          "output_type": "stream",
          "name": "stderr",
          "text": [
            "<ipython-input-4-f234be6949b6>:1: DeprecationWarning: lib2to3 package is deprecated and may not be able to parse Python 3.10+\n",
            "  import lib2to3.refactor\n"
          ]
        },
        {
          "output_type": "execute_result",
          "data": {
            "text/plain": [
              "68858"
            ]
          },
          "metadata": {},
          "execution_count": 4
        }
      ]
    },
    {
      "cell_type": "code",
      "source": [
        "file_path = \"/content/pyserpent/serpent.py\"\n",
        "\n",
        "# Read the current content of the file\n",
        "with open(file_path, \"r\") as f:\n",
        "    lines = f.readlines()\n",
        "\n",
        "patched_lines = []\n",
        "\n",
        "in_function = False\n",
        "function_indent_level = 0\n",
        "\n",
        "# Iterate over each line to find the function where key or block is used and adjust its indentation\n",
        "for line in lines:\n",
        "    stripped_line = line.strip()\n",
        "\n",
        "    # Skip the __init__ function by checking for 'def __init__'\n",
        "    if stripped_line.startswith(\"def __init__\"):\n",
        "        patched_lines.append(line)\n",
        "        continue\n",
        "\n",
        "    # Skip any function that doesn't contain 'key' or 'block' if you don't want the checks\n",
        "    if stripped_line.startswith(\"def \") and \"key\" not in stripped_line and \"block\" not in stripped_line:\n",
        "        patched_lines.append(line)\n",
        "        continue\n",
        "\n",
        "    # Detect function definitions and detect indentation level (for functions that use 'key')\n",
        "    if stripped_line.startswith(\"def \") and \"key\" in stripped_line and \"):\" in stripped_line:\n",
        "        in_function = True\n",
        "        function_indent_level = len(line) - len(line.lstrip())  # Get the indentation level for the function\n",
        "        patched_lines.append(line)  # Keep the function signature\n",
        "        continue\n",
        "\n",
        "    # Detect functions with 'block' and apply encoding for block\n",
        "    if stripped_line.startswith(\"def \") and \"block\" in stripped_line and \"):\" in stripped_line:\n",
        "        in_function = True\n",
        "        function_indent_level = len(line) - len(line.lstrip())  # Get the indentation level for the function\n",
        "        patched_lines.append(line)  # Keep the function signature\n",
        "        continue\n",
        "\n",
        "    if in_function:\n",
        "        # Check for the indentation of each line within the function\n",
        "        if stripped_line == \"\":  # For empty lines, keep them as they are\n",
        "            patched_lines.append(line)\n",
        "        else:\n",
        "            # Add the encoding fix for key or block\n",
        "            if \"key\" in stripped_line:\n",
        "                patched_lines.append(\" \" * function_indent_level + \"    if isinstance(key, str):\\n\")\n",
        "                patched_lines.append(\" \" * function_indent_level + \"        key = key.encode('utf-8')\\n\")\n",
        "            elif \"block\" in stripped_line:\n",
        "                patched_lines.append(\" \" * function_indent_level + \"    if isinstance(block, str):\\n\")\n",
        "                patched_lines.append(\" \" * function_indent_level + \"        block = block.encode('utf-8')\\n\")\n",
        "\n",
        "            in_function = False  # Stop after modifying the relevant function\n",
        "\n",
        "        # Append the original line under the function\n",
        "        patched_lines.append(line)\n",
        "\n",
        "    else:\n",
        "        patched_lines.append(line)\n",
        "\n",
        "# Save patched file with fixed indentation\n",
        "with open(file_path, \"w\") as f:\n",
        "    f.writelines(patched_lines)\n",
        "\n",
        "print(\"✅ serpent.py patched, skipping __init__ and handling both 'key' and 'block'.\")\n"
      ],
      "metadata": {
        "colab": {
          "base_uri": "https://localhost:8080/"
        },
        "id": "vC6Nl4MO2zt6",
        "outputId": "dd8518fb-b95b-4861-904f-15c7c736b909"
      },
      "execution_count": 5,
      "outputs": [
        {
          "output_type": "stream",
          "name": "stdout",
          "text": [
            "✅ serpent.py patched, skipping __init__ and handling both 'key' and 'block'.\n"
          ]
        }
      ]
    },
    {
      "cell_type": "code",
      "source": [
        "import sys\n",
        "sys.path.append('/content/pyserpent')  # Path to the cloned repo\n",
        "\n",
        "import importlib.util\n",
        "\n",
        "# Load the serpent.py file\n",
        "spec = importlib.util.spec_from_file_location(\"serpent\", \"/content/pyserpent/serpent.py\")\n",
        "serpent = importlib.util.module_from_spec(spec)\n",
        "spec.loader.exec_module(serpent)"
      ],
      "metadata": {
        "id": "9j301NtowTkk"
      },
      "execution_count": 6,
      "outputs": []
    },
    {
      "cell_type": "code",
      "source": [
        "#PKSC7 padding and unpadding\n",
        "def pad(data):\n",
        "    pad_len = 16 - (len(data) % 16)\n",
        "    return data + bytes([pad_len] * pad_len)\n",
        "\n",
        "def unpad(data):\n",
        "    pad_len = data[-1]\n",
        "    return data[:-pad_len]"
      ],
      "metadata": {
        "id": "c8pLH2vQxg0j"
      },
      "execution_count": 7,
      "outputs": []
    },
    {
      "cell_type": "code",
      "source": [
        "# Import directly from the file\n",
        "from serpent import Serpent"
      ],
      "metadata": {
        "id": "xeJFDCMqysRG"
      },
      "execution_count": 8,
      "outputs": []
    },
    {
      "cell_type": "code",
      "source": [
        "# Test key and plaintext\n",
        "key = b\"thisisasecretkey\"      # 16 bytes\n",
        "plaintext = b\"I am finally done trouble shooting this. YAY!\"  # 15 bytes, will need padding\n",
        "\n",
        "#displaying original text\n",
        "print(\"Plaintext:\", plaintext)\n",
        "\n",
        "# Pad the plaintext\n",
        "padded = pad(plaintext)\n",
        "\n",
        "# Encrypt\n",
        "cipher = Serpent(key)\n",
        "ciphertext = cipher.encrypt(padded)\n",
        "\n",
        "print(\"Ciphertext:\", ciphertext)\n",
        "\n",
        "# Assuming your Serpent class has a decrypt method:\n",
        "decrypted = cipher.decrypt(ciphertext)\n",
        "\n",
        "# Remove padding\n",
        "def unpad(data):\n",
        "    padding_len = data[-1]\n",
        "    return data[:-padding_len]\n",
        "\n",
        "print(\"Decrypted:\", unpad(decrypted))\n"
      ],
      "metadata": {
        "colab": {
          "base_uri": "https://localhost:8080/"
        },
        "id": "mqzjXutHwb05",
        "outputId": "497a57c7-a4e7-440f-c117-8c14e0062eb5"
      },
      "execution_count": 14,
      "outputs": [
        {
          "output_type": "stream",
          "name": "stdout",
          "text": [
            "Plaintext: b'I am finally done trouble shooting this. YAY!'\n",
            "Ciphertext: b\"'\\xfe\\x1f\\xbb\\xf9zMi\\x8f2\\xc7\\xc0K;\\x96\\xee\\xadxX\\x89\\xda3\\xa8\\x9eY}\\xf7'\\xd6L\\xbb\\xaf\\x81\\x13vH&(s\\xdb\\xa8\\x90\\xb3h{\\x10p\\xb3\"\n",
            "Decrypted: b'I am finally done trouble shooting this. YAY!'\n"
          ]
        }
      ]
    },
    {
      "cell_type": "code",
      "source": [
        "# Assuming your Serpent class has a decrypt method:\n",
        "decrypted = cipher.decrypt(ciphertext)\n",
        "\n",
        "# Remove padding\n",
        "def unpad(data):\n",
        "    padding_len = data[-1]\n",
        "    return data[:-padding_len]\n",
        "\n",
        "print(\"Decrypted:\", unpad(decrypted))\n"
      ],
      "metadata": {
        "colab": {
          "base_uri": "https://localhost:8080/"
        },
        "id": "R7_qCiEgxwNb",
        "outputId": "4570ebdf-434d-4c0a-fc37-657cc316b626"
      },
      "execution_count": 10,
      "outputs": [
        {
          "output_type": "stream",
          "name": "stdout",
          "text": [
            "Decrypted: b'test message123'\n"
          ]
        }
      ]
    },
    {
      "cell_type": "code",
      "source": [
        "!grep -rnw '.' -e 'def serpent_cbc_encrypt'\n"
      ],
      "metadata": {
        "colab": {
          "base_uri": "https://localhost:8080/"
        },
        "id": "knoS59rQyjft",
        "outputId": "25f5eccd-264f-4c58-88c4-f2d1ef8091b0"
      },
      "execution_count": 16,
      "outputs": [
        {
          "output_type": "stream",
          "name": "stdout",
          "text": [
            "./serpent.py:2976:def serpent_cbc_encrypt(key, data, iv='\\x00'*16):\n"
          ]
        }
      ]
    }
  ]
}